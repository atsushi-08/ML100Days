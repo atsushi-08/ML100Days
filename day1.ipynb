{
 "cells": [
  {
   "cell_type": "code",
   "execution_count": 7,
   "metadata": {},
   "outputs": [
    {
     "name": "stdout",
     "output_type": "stream",
     "text": [
      "Requirement already satisfied: numpy in c:\\users\\robin\\anaconda3\\lib\\site-packages (1.19.2)\n"
     ]
    }
   ],
   "source": [
    "!pip3 install numpy\n",
    "import numpy as np"
   ]
  },
  {
   "cell_type": "code",
   "execution_count": 8,
   "metadata": {},
   "outputs": [
    {
     "data": {
      "text/plain": [
       "array([1, 2, 3, 4, 5, 6, 7, 8, 9])"
      ]
     },
     "execution_count": 8,
     "metadata": {},
     "output_type": "execute_result"
    }
   ],
   "source": [
    "np.arange(1,10)"
   ]
  },
  {
   "cell_type": "code",
   "execution_count": 12,
   "metadata": {},
   "outputs": [
    {
     "name": "stdout",
     "output_type": "stream",
     "text": [
      "0.0\n",
      "2.0\n",
      "4.0\n",
      "6.0\n",
      "8.0\n",
      "10.0\n",
      "12.0\n",
      "14.0\n",
      "16.0\n",
      "18.0\n",
      "0.0\n",
      "3.0\n",
      "6.0\n",
      "9.0\n",
      "12.0\n",
      "15.0\n",
      "18.0\n"
     ]
    }
   ],
   "source": [
    "a=np.linspace(0,20,num=21)\n",
    "for i in range(0,20):\n",
    "    if(a[i]%2==0):\n",
    "        print(a[i])\n",
    "for i in range(0,20):\n",
    "    if(a[i]%3==0):\n",
    "        print(a[i])"
   ]
  },
  {
   "cell_type": "code",
   "execution_count": null,
   "metadata": {},
   "outputs": [],
   "source": []
  }
 ],
 "metadata": {
  "kernelspec": {
   "display_name": "Python 3",
   "language": "python",
   "name": "python3"
  },
  "language_info": {
   "codemirror_mode": {
    "name": "ipython",
    "version": 3
   },
   "file_extension": ".py",
   "mimetype": "text/x-python",
   "name": "python",
   "nbconvert_exporter": "python",
   "pygments_lexer": "ipython3",
   "version": "3.8.5"
  }
 },
 "nbformat": 4,
 "nbformat_minor": 4
}
