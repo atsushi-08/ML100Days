{
 "cells": [
  {
   "cell_type": "code",
   "execution_count": 2,
   "metadata": {},
   "outputs": [
    {
     "data": {
      "text/plain": [
       "'1. 在速度較慢的時候，可以先從哪邊開始檢查？Ans: 讀取的資料型態、多使用python內建函數、使用向量化的資料處理。2. 資料過大時應採取什麼方式讓記憶體占用量下降？Ans: 將欄位的資料型態降級。'"
      ]
     },
     "execution_count": 2,
     "metadata": {},
     "output_type": "execute_result"
    }
   ],
   "source": [
    "\"1. 在速度較慢的時候，可以先從哪邊開始檢查？Ans: 讀取的資料型態、多使用python內建函數、使用向量化的資料處理。2. 資料過大時應採取什麼方式讓記憶體占用量下降？Ans: 將欄位的資料型態降級。\""
   ]
  },
  {
   "cell_type": "code",
   "execution_count": null,
   "metadata": {},
   "outputs": [],
   "source": []
  }
 ],
 "metadata": {
  "kernelspec": {
   "display_name": "Python 3",
   "language": "python",
   "name": "python3"
  },
  "language_info": {
   "codemirror_mode": {
    "name": "ipython",
    "version": 3
   },
   "file_extension": ".py",
   "mimetype": "text/x-python",
   "name": "python",
   "nbconvert_exporter": "python",
   "pygments_lexer": "ipython3",
   "version": "3.8.5"
  }
 },
 "nbformat": 4,
 "nbformat_minor": 4
}
