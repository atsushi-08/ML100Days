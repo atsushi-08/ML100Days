{
 "cells": [
  {
   "cell_type": "code",
   "execution_count": 2,
   "metadata": {},
   "outputs": [],
   "source": [
    "\"1. 請比較對一個 1000 x 100 x 100 的陣列，使用不同方法對每一個元素 +1 的時間比較。\"\n",
    "import numpy as np\n",
    "import timeit\n",
    "a=np.random.randint(0,10,1000000).reshape(100,100,100)"
   ]
  },
  {
   "cell_type": "code",
   "execution_count": 3,
   "metadata": {},
   "outputs": [
    {
     "name": "stdout",
     "output_type": "stream",
     "text": [
      "35.7 ns ± 10.5 ns per loop (mean ± std. dev. of 7 runs, 10 loops each)\n"
     ]
    }
   ],
   "source": [
    "%timeit -n 10 a = 2\n",
    "for i in a:\n",
    "    for row in i:\n",
    "        for j in row:\n",
    "            j=j+1"
   ]
  },
  {
   "cell_type": "code",
   "execution_count": 4,
   "metadata": {},
   "outputs": [
    {
     "name": "stdout",
     "output_type": "stream",
     "text": [
      "31.4 ns ± 9.9 ns per loop (mean ± std. dev. of 7 runs, 10 loops each)\n"
     ]
    }
   ],
   "source": [
    "%timeit -n 10 a = 2\n",
    "for i in a.flat:\n",
    "    i=i+1"
   ]
  },
  {
   "cell_type": "code",
   "execution_count": 5,
   "metadata": {},
   "outputs": [
    {
     "name": "stdout",
     "output_type": "stream",
     "text": [
      "30 ns ± 9.26 ns per loop (mean ± std. dev. of 7 runs, 10 loops each)\n"
     ]
    }
   ],
   "source": [
    "%timeit -n 10 a = 2\n",
    "for i in np.nditer(a):\n",
    "    i=i+1"
   ]
  },
  {
   "cell_type": "code",
   "execution_count": 6,
   "metadata": {},
   "outputs": [
    {
     "name": "stdout",
     "output_type": "stream",
     "text": [
      "[1 4 9 3 9 9 2 2 2 5 2 9 2 2 4 1 3 0 3 2 3 6 4 9 9 9 4 6 0 3 6 3 1 0 7 8 9\n",
      " 7 1 2 0 2 6 1 3 1 2 2 6 9]\n"
     ]
    }
   ],
   "source": [
    "\"2. 如何從一個陣列中，找出出現頻率最高的數值與位置？\"\n",
    "Z = np.random.randint(0,10,50)\n",
    "print(Z)"
   ]
  },
  {
   "cell_type": "code",
   "execution_count": 7,
   "metadata": {},
   "outputs": [
    {
     "name": "stdout",
     "output_type": "stream",
     "text": [
      "2\n",
      "9\n",
      "(array([ 2,  4,  5, 11, 23, 24, 25, 36, 49], dtype=int32),)\n"
     ]
    }
   ],
   "source": [
    "x=np.argmax(Z)\n",
    "print(x)\n",
    "print(Z[x])\n",
    "b=np.where(Z==Z[x])\n",
    "print(b)"
   ]
  },
  {
   "cell_type": "code",
   "execution_count": 8,
   "metadata": {},
   "outputs": [
    {
     "name": "stdout",
     "output_type": "stream",
     "text": [
      "[6, 1, 7, 1, 0, 8]\n",
      "[6, 1, 7, 1, 0, 8]\n",
      "[[0, 7, 8, 6], [5, 9, 6, 7], [6, 1, 1, 3]]\n",
      "[array([0, 7, 8, 6]), array([5, 9, 6, 7]), array([6, 1, 1, 3])]\n",
      "[[[1, 6], [3, 4], [3, 7]], [[8, 4], [5, 2], [0, 8]]]\n",
      "[array([[1, 6],\n",
      "       [3, 4],\n",
      "       [3, 7]]), array([[8, 4],\n",
      "       [5, 2],\n",
      "       [0, 8]])]\n"
     ]
    }
   ],
   "source": [
    "\"3. 如何利用 list(...) 實現 a.tolist() 的效果？試著用程式實作。\"\n",
    "a = np.random.randint(10, size=6) \n",
    "\n",
    "print(a.tolist())\n",
    "print(list(a))\n",
    "\n",
    "\n",
    "b = np.random.randint(10, size=(3,4)) \n",
    "\n",
    "print(b.tolist())\n",
    "print(list(b))\n",
    "\n",
    "\n",
    "c = np.random.randint(10, size=(2,3,2)) \n",
    "\n",
    "print(c.tolist())\n",
    "print(list(c))"
   ]
  },
  {
   "cell_type": "code",
   "execution_count": 9,
   "metadata": {},
   "outputs": [
    {
     "name": "stdout",
     "output_type": "stream",
     "text": [
      "[6, 1, 7, 1, 0, 8]\n",
      "[[0, 7, 8, 6]]\n",
      "[[0, 7, 8, 6], [5, 9, 6, 7]]\n",
      "[[0, 7, 8, 6], [5, 9, 6, 7], [6, 1, 1, 3]]\n",
      "[[1, 6]]\n",
      "[[1, 6], [3, 4]]\n",
      "[[1, 6], [3, 4], [3, 7]]\n",
      "[[1, 6], [3, 4], [3, 7], [8, 4]]\n",
      "[[1, 6], [3, 4], [3, 7], [8, 4], [5, 2]]\n",
      "[[1, 6], [3, 4], [3, 7], [8, 4], [5, 2], [0, 8]]\n"
     ]
    }
   ],
   "source": [
    "'a'\n",
    "print(list(a))\n",
    "'b'\n",
    "b_list=[]\n",
    "for i in b:\n",
    "    b_list.append(list(i))\n",
    "    print(b_list)\n",
    "'c'\n",
    "c_list=[]\n",
    "for i in range(c.shape[0]):\n",
    "    for j in range(c.shape[1]):\n",
    "        c_list.append(list(c[i][j]))\n",
    "        \n",
    "        print(c_list)"
   ]
  },
  {
   "cell_type": "code",
   "execution_count": 18,
   "metadata": {},
   "outputs": [
    {
     "name": "stdout",
     "output_type": "stream",
     "text": [
      "[[ 0.19230769 -0.30769231]\n",
      " [-0.11538462  0.38461538]]\n"
     ]
    }
   ],
   "source": [
    "array1 = np.array([[10, 8], [3, 5]])\n",
    "\"運用上列array計算反矩陣，乘上原矩陣，並觀察是否為單位矩陣?\"\n",
    "inv_array1=np.linalg.inv(array1)\n",
    "print(inv_array1)"
   ]
  },
  {
   "cell_type": "code",
   "execution_count": 19,
   "metadata": {},
   "outputs": [
    {
     "name": "stdout",
     "output_type": "stream",
     "text": [
      "[[ 1.00000000e+00  0.00000000e+00]\n",
      " [-1.38777878e-17  1.00000000e+00]]\n"
     ]
    }
   ],
   "source": [
    "a=array1 @ inv_array1\n",
    "print(a)"
   ]
  },
  {
   "cell_type": "code",
   "execution_count": 20,
   "metadata": {},
   "outputs": [
    {
     "name": "stdout",
     "output_type": "stream",
     "text": [
      "[13.  2.] \n",
      "\n",
      "[[ 0.93632918 -0.70710678]\n",
      " [ 0.35112344  0.70710678]]\n"
     ]
    }
   ],
   "source": [
    "\"運用上列array計算特徵值、特徵向量?\"\n",
    "w,v=np.linalg.eig(array1)\n",
    "print(w,'\\n')\n",
    "print(v)"
   ]
  },
  {
   "cell_type": "code",
   "execution_count": 22,
   "metadata": {},
   "outputs": [
    {
     "data": {
      "text/plain": [
       "(array([[-0.91663818, -0.39971796],\n",
       "        [-0.39971796,  0.91663818]]),\n",
       " array([13.94721714,  1.86417116]),\n",
       " array([[-0.74319741, -0.6690722 ],\n",
       "        [-0.6690722 ,  0.74319741]]))"
      ]
     },
     "execution_count": 22,
     "metadata": {},
     "output_type": "execute_result"
    }
   ],
   "source": [
    "\"運用上列array計算SVD?\"\n",
    "np.linalg.svd(array1)"
   ]
  },
  {
   "cell_type": "code",
   "execution_count": null,
   "metadata": {},
   "outputs": [],
   "source": []
  }
 ],
 "metadata": {
  "kernelspec": {
   "display_name": "Python 3",
   "language": "python",
   "name": "python3"
  },
  "language_info": {
   "codemirror_mode": {
    "name": "ipython",
    "version": 3
   },
   "file_extension": ".py",
   "mimetype": "text/x-python",
   "name": "python",
   "nbconvert_exporter": "python",
   "pygments_lexer": "ipython3",
   "version": "3.8.5"
  }
 },
 "nbformat": 4,
 "nbformat_minor": 4
}
