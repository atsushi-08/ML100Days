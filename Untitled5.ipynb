{
 "cells": [
  {
   "cell_type": "code",
   "execution_count": 2,
   "metadata": {},
   "outputs": [
    {
     "name": "stdout",
     "output_type": "stream",
     "text": [
      "   Apples  Bananas\n",
      "0      30       21\n",
      "\n",
      "\n",
      "            Apples  Bananas\n",
      "2017 Sales      35       21\n",
      "2018 Sales      41       34\n"
     ]
    }
   ],
   "source": [
    "\"1. 請建立類似提供結果的 DataFrame：\"\n",
    "#    Apples  Bananas\n",
    "# 0      30       21\n",
    "\n",
    "#             Apples  Bananas\n",
    "# 2017 Sales      35       21\n",
    "# 2018 Sales      41       34\n",
    "\n",
    "import numpy as np\n",
    "import pandas as pd\n",
    "\n",
    "da=pd.DataFrame([[30,21]],columns=['Apples','Bananas'])\n",
    "print(da)\n",
    "print('\\n')\n",
    "db=pd.DataFrame([[35,21],[41,34]],index=['2017 Sales','2018 Sales'],columns=['Apples','Bananas'])\n",
    "print(db)"
   ]
  },
  {
   "cell_type": "code",
   "execution_count": 3,
   "metadata": {},
   "outputs": [
    {
     "name": "stdout",
     "output_type": "stream",
     "text": [
      "     city  visitor weekday\n",
      "0  Austin      139     Sun\n",
      "1  Dallas      237     Sun\n",
      "2  Austin      139     Mon\n",
      "3  DAllas      456     Mon\n"
     ]
    }
   ],
   "source": [
    "\"2. 請問如果現在有一個 DataFrame 如下，請問資料在 Python 中可能長怎樣？\"\n",
    "#      city  visitor weekday\n",
    "# 0  Austin      139     Sun\n",
    "# 1  Dallas      237     Sun\n",
    "# 2  Austin      326     Mon\n",
    "# 3  Dallas      456     Mon\n",
    "\n",
    "dc=pd.DataFrame({\n",
    "    'city':['Austin','Dallas','Austin','DAllas'],\n",
    "    'visitor':[139,237,139,456],\n",
    "    'weekday':['Sun','Sun','Mon','Mon']\n",
    "})\n",
    "print(dc)"
   ]
  },
  {
   "cell_type": "code",
   "execution_count": 4,
   "metadata": {},
   "outputs": [
    {
     "name": "stdout",
     "output_type": "stream",
     "text": [
      "Sun 188.0\n",
      "Sun 188.0\n",
      "Mon 297.5\n",
      "Mon 297.5\n"
     ]
    }
   ],
   "source": [
    "\"3. 承上題，假設你想知道每個 weekday 的平均 visitor 數量，可以怎麼做？\"\n",
    "for day in dc['weekday']:\n",
    "    print(day, dc[dc['weekday'] == day]['visitor'].mean())"
   ]
  },
  {
   "cell_type": "code",
   "execution_count": null,
   "metadata": {},
   "outputs": [],
   "source": []
  }
 ],
 "metadata": {
  "kernelspec": {
   "display_name": "Python 3",
   "language": "python",
   "name": "python3"
  },
  "language_info": {
   "codemirror_mode": {
    "name": "ipython",
    "version": 3
   },
   "file_extension": ".py",
   "mimetype": "text/x-python",
   "name": "python",
   "nbconvert_exporter": "python",
   "pygments_lexer": "ipython3",
   "version": "3.8.5"
  }
 },
 "nbformat": 4,
 "nbformat_minor": 4
}
