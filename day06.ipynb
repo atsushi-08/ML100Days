{
 "cells": [
  {
   "cell_type": "code",
   "execution_count": 3,
   "metadata": {},
   "outputs": [
    {
     "name": "stdout",
     "output_type": "stream",
     "text": [
      "15\n",
      "15\n",
      "[6 9]\n"
     ]
    }
   ],
   "source": [
    "#[簡答題] 請問下列這三種方法有什麼不同？\n",
    "import numpy as np\n",
    "a = np.arange(6).reshape((3, 2))\n",
    "print(a.sum())#所有值的和\n",
    "print(np.sum(a))#所有值的和\n",
    "print(sum(a))#axis=0所有值的和"
   ]
  },
  {
   "cell_type": "code",
   "execution_count": 5,
   "metadata": {},
   "outputs": [
    {
     "name": "stdout",
     "output_type": "stream",
     "text": [
      "[[0.88994482 0.20256994 0.32664031 0.46906302 0.43711845]\n",
      " [0.63451072 0.43209311 0.07197018 0.41402096 0.42961842]\n",
      " [0.92440306 0.14153394 0.57126444 0.07803187 0.63531162]\n",
      " [0.40482116 0.27710529 0.97188409 0.99047113 0.09611228]\n",
      " [0.75285946 0.95080867 0.80311227 0.72041084 0.70136983]]\n",
      "正規化後\n",
      "[[0.89055394 0.14218794 0.27726713 0.43232708 0.39754806]\n",
      " [0.61245504 0.39207682 0.         0.37240111 0.38938254]\n",
      " [0.92806968 0.07573619 0.54359689 0.00659955 0.61332701]\n",
      " [0.36238502 0.22333685 0.97976372 1.         0.02628424]\n",
      " [0.74130493 0.95681827 0.79601669 0.70597713 0.6852466 ]]\n"
     ]
    }
   ],
   "source": [
    "#請對一個 5x5 的隨機矩陣作正規化的操作。\n",
    "\n",
    "b=np.random.random((5,5))\n",
    "print(b)\n",
    "print('正規化後')\n",
    "bmin,bmax=b.min(),b.max()\n",
    "c=(b-bmin)/(bmax-bmin)\n",
    "print(c)"
   ]
  },
  {
   "cell_type": "code",
   "execution_count": 6,
   "metadata": {},
   "outputs": [
    {
     "name": "stdout",
     "output_type": "stream",
     "text": [
      "[491 363 418 381 623 740 280 484 143 768]\n",
      "最大值改-1\n",
      "[491 363 418 381 623 740 280 484 143  -1]\n"
     ]
    }
   ],
   "source": [
    "#請建立一個長度等於 10 的正整數向量，並且將其中的最大值改成 -1。\n",
    "\n",
    "x=np.random.randint(0,1000,10)\n",
    "print(x)\n",
    "x[x.argmax()]=-1\n",
    "print('最大值改-1')\n",
    "print(x)"
   ]
  },
  {
   "cell_type": "code",
   "execution_count": null,
   "metadata": {},
   "outputs": [],
   "source": []
  }
 ],
 "metadata": {
  "kernelspec": {
   "display_name": "Python 3",
   "language": "python",
   "name": "python3"
  },
  "language_info": {
   "codemirror_mode": {
    "name": "ipython",
    "version": 3
   },
   "file_extension": ".py",
   "mimetype": "text/x-python",
   "name": "python",
   "nbconvert_exporter": "python",
   "pygments_lexer": "ipython3",
   "version": "3.8.5"
  }
 },
 "nbformat": 4,
 "nbformat_minor": 4
}
